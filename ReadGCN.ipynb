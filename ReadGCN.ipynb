{
 "cells": [
  {
   "cell_type": "code",
   "execution_count": 11,
   "metadata": {},
   "outputs": [],
   "source": [
    "from urllib.request import urlopen\n",
    "from bs4 import BeautifulSoup\n",
    "import sys\n",
    "from astropy.time import Time\n",
    "import astropy.units as u\n",
    "import numpy as np"
   ]
  },
  {
   "cell_type": "code",
   "execution_count": 14,
   "metadata": {},
   "outputs": [],
   "source": [
    "def readGCN(RA, DEC, ERR, RA1, RA2, start, stop, tel):\n",
    "    \n",
    "    htmlAddress = \"https://gcn.gsfc.nasa.gov/%s_grbs.html\"%tel.lower()\n",
    "    \n",
    "    if tel == 'Swift':\n",
    "        trigInd  = 0\n",
    "        dateInd  = 1\n",
    "        timeInd  = 2\n",
    "        raInd    = 3\n",
    "        decInd   = 4\n",
    "        errorInd = 5\n",
    "    elif tel == \"MAXI\" or tel==\"Fermi\" or tel=='Integral':\n",
    "        trigInd  = 0\n",
    "        dateInd  = 1\n",
    "        timeInd  = 2\n",
    "        raInd    = 4\n",
    "        decInd   = 5\n",
    "        errorInd = 6\n",
    "    else:\n",
    "        print(\"%s is not a valid choice. Valid choices are MAXI, Fermi, Integral, Swift. Exit\")\n",
    "        sys.exit()\n",
    "    \n",
    "    sock = urlopen(htmlAddress)\n",
    "    htmlSource = sock.read() \n",
    "    sock.close()\n",
    "    parsed_html = BeautifulSoup(htmlSource, \"lxml\")\n",
    "\n",
    "    table = parsed_html.body.find(\"table\")\n",
    "    rows = table.findAll('tr')\n",
    "\n",
    "    triggerN = []\n",
    "    burstDate = []\n",
    "    burstTime = []\n",
    "    RAs = []\n",
    "    Decs = []\n",
    "    Error = []\n",
    "\n",
    "    for row in rows:\n",
    "        cols = row.findAll(\"td\")\n",
    "        cols = [ele.text.strip() for ele in cols]\n",
    "        if len(cols) > 1:\n",
    "            triggerN.append(cols[trigInd])\n",
    "            burstDate.append(cols[dateInd])\n",
    "            burstTime.append(cols[timeInd])\n",
    "            RAs.append(cols[raInd])\n",
    "            Decs.append(cols[decInd])\n",
    "            Error.append(cols[errorInd])\n",
    "            \n",
    "    for i in range(len(triggerN)):\n",
    "        if((triggerN[i] == '') or (RAs[i] == '') or (Decs[i] == '') or (burstDate[i] == '') or \\\n",
    "           (burstTime[i] == '') or (Error[i] == '')):\n",
    "            RAs[i] = 500\n",
    "            Decs[i] = 500\n",
    "            burstDate[i] = '00/6/6'\n",
    "            burstTime[i] = '00:00:00'\n",
    "        triggerN[i] = tel + ' ' + triggerN[i]\n",
    "        burstTime[i] = '20' + burstDate[i] + ' ' + burstTime[i]\n",
    "        burstTime[i] = burstTime[i].replace('/', '-')\n",
    "    \n",
    "    burstTime = Time(burstTime, format = 'iso', scale = 'utc')\n",
    "    t1 = start - 300 * u.s\n",
    "    t2 = stop + 300 * u.s\n",
    "    \n",
    "    triggerN = np.asarray(triggerN)\n",
    "    burstTime = np.asarray(burstTime)\n",
    "    RAs = np.asarray(RAs)\n",
    "    Decs = np.asarray(Decs)\n",
    "    Error = np.asarray(Error)\n",
    "    \n",
    "    RAs = RAs.astype('float')   \n",
    "    Decs = Decs.astype('float')\n",
    "    \n",
    "    RAs[RAs < RA1] += 360\n",
    "    RAs[RAs > RA2] -= 360\n",
    "    \n",
    "    mask = (((RAs - RA) ** 2 + (Decs - DEC) ** 2) <= (ERR ** 2)) & (t1 < burstTime) & (burstTime < t2)\n",
    "    \n",
    "    triggerN = triggerN[mask]\n",
    "    burstTime = burstTime[mask]\n",
    "    RAs = RAs[mask]\n",
    "    Decs = Decs[mask]\n",
    "    Error = Error[mask]\n",
    "        \n",
    "    return triggerN, burstTime, RAs, Decs, Error"
   ]
  },
  {
   "cell_type": "code",
   "execution_count": null,
   "metadata": {},
   "outputs": [],
   "source": [
    "triggerN, burstTime, RA, Dec, Error = readGCN('Swift')\n",
    "print(RA)"
   ]
  },
  {
   "cell_type": "code",
   "execution_count": null,
   "metadata": {},
   "outputs": [],
   "source": [
    "triggerN, burstTime, RA, Dec, Error = readGCN('Fermi')\n",
    "print(burstTime)"
   ]
  },
  {
   "cell_type": "code",
   "execution_count": 15,
   "metadata": {
    "scrolled": false
   },
   "outputs": [
    {
     "name": "stdout",
     "output_type": "stream",
     "text": [
      "[]\n"
     ]
    }
   ],
   "source": [
    "start = '2017-03-10 12:00:00'\n",
    "stop = '2017-03-10 13:00:00'\n",
    "start = Time(start, format = 'iso', scale = 'utc')\n",
    "stop = Time(stop, format = 'iso', scale = 'utc')\n",
    "triggerN, burstTime, RA, Dec, Error = readGCN(0, 0, 5, -7.5, 7.5, start, stop, 'Integral')\n",
    "print(triggerN)"
   ]
  },
  {
   "cell_type": "code",
   "execution_count": null,
   "metadata": {},
   "outputs": [],
   "source": [
    "triggerN, burstTime, RA, Dec, Error = readGCN('MAXI')\n",
    "print(triggerN)"
   ]
  },
  {
   "cell_type": "code",
   "execution_count": null,
   "metadata": {},
   "outputs": [],
   "source": []
  },
  {
   "cell_type": "code",
   "execution_count": null,
   "metadata": {
    "collapsed": true
   },
   "outputs": [],
   "source": []
  }
 ],
 "metadata": {
  "kernelspec": {
   "display_name": "Python 3",
   "language": "python",
   "name": "python3"
  },
  "language_info": {
   "codemirror_mode": {
    "name": "ipython",
    "version": 3
   },
   "file_extension": ".py",
   "mimetype": "text/x-python",
   "name": "python",
   "nbconvert_exporter": "python",
   "pygments_lexer": "ipython3",
   "version": "3.6.1"
  }
 },
 "nbformat": 4,
 "nbformat_minor": 1
}
